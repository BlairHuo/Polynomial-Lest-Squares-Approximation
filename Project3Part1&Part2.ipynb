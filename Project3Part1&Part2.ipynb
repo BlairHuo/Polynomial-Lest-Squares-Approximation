{
 "cells": [
  {
   "cell_type": "code",
   "execution_count": 17,
   "metadata": {},
   "outputs": [],
   "source": [
    "# import modules\n",
    "import pandas as pd\n",
    "import numpy as np\n",
    "import matplotlib.pyplot as plt\n",
    "%matplotlib inline"
   ]
  },
  {
   "cell_type": "code",
   "execution_count": 18,
   "metadata": {},
   "outputs": [
    {
     "data": {
      "text/html": [
       "<div>\n",
       "<style scoped>\n",
       "    .dataframe tbody tr th:only-of-type {\n",
       "        vertical-align: middle;\n",
       "    }\n",
       "\n",
       "    .dataframe tbody tr th {\n",
       "        vertical-align: top;\n",
       "    }\n",
       "\n",
       "    .dataframe thead th {\n",
       "        text-align: right;\n",
       "    }\n",
       "</style>\n",
       "<table border=\"1\" class=\"dataframe\">\n",
       "  <thead>\n",
       "    <tr style=\"text-align: right;\">\n",
       "      <th></th>\n",
       "      <th>x-values</th>\n",
       "      <th>y-values</th>\n",
       "    </tr>\n",
       "  </thead>\n",
       "  <tbody>\n",
       "    <tr>\n",
       "      <td>0</td>\n",
       "      <td>-3.14159265358979</td>\n",
       "      <td>0.000000000000000</td>\n",
       "    </tr>\n",
       "    <tr>\n",
       "      <td>1</td>\n",
       "      <td>-2.81089869005402</td>\n",
       "      <td>-0.437022305259870</td>\n",
       "    </tr>\n",
       "    <tr>\n",
       "      <td>2</td>\n",
       "      <td>-2.48020472651826</td>\n",
       "      <td>-0.781709877071470</td>\n",
       "    </tr>\n",
       "    <tr>\n",
       "      <td>3</td>\n",
       "      <td>-2.14951076298249</td>\n",
       "      <td>-0.852076056027190</td>\n",
       "    </tr>\n",
       "    <tr>\n",
       "      <td>4</td>\n",
       "      <td>-1.81881679944672</td>\n",
       "      <td>-0.523359354479080</td>\n",
       "    </tr>\n",
       "    <tr>\n",
       "      <td>5</td>\n",
       "      <td>-1.48812283591095</td>\n",
       "      <td>0.221211026816860</td>\n",
       "    </tr>\n",
       "    <tr>\n",
       "      <td>6</td>\n",
       "      <td>-1.15742887237519</td>\n",
       "      <td>1.271307340317750</td>\n",
       "    </tr>\n",
       "    <tr>\n",
       "      <td>7</td>\n",
       "      <td>-0.82673490883942</td>\n",
       "      <td>2.410892493715280</td>\n",
       "    </tr>\n",
       "    <tr>\n",
       "      <td>8</td>\n",
       "      <td>-0.49604094530365</td>\n",
       "      <td>3.375392641226650</td>\n",
       "    </tr>\n",
       "    <tr>\n",
       "      <td>9</td>\n",
       "      <td>-0.16534698176788</td>\n",
       "      <td>3.927491941286241</td>\n",
       "    </tr>\n",
       "    <tr>\n",
       "      <td>10</td>\n",
       "      <td>0.16534698176788</td>\n",
       "      <td>3.927491941286241</td>\n",
       "    </tr>\n",
       "    <tr>\n",
       "      <td>11</td>\n",
       "      <td>0.49604094530365</td>\n",
       "      <td>3.375392641226650</td>\n",
       "    </tr>\n",
       "    <tr>\n",
       "      <td>12</td>\n",
       "      <td>0.82673490883942</td>\n",
       "      <td>2.410892493715280</td>\n",
       "    </tr>\n",
       "    <tr>\n",
       "      <td>13</td>\n",
       "      <td>1.15742887237519</td>\n",
       "      <td>1.271307340317750</td>\n",
       "    </tr>\n",
       "    <tr>\n",
       "      <td>14</td>\n",
       "      <td>1.48812283591095</td>\n",
       "      <td>0.221211026816860</td>\n",
       "    </tr>\n",
       "    <tr>\n",
       "      <td>15</td>\n",
       "      <td>1.81881679944672</td>\n",
       "      <td>-0.523359354479080</td>\n",
       "    </tr>\n",
       "    <tr>\n",
       "      <td>16</td>\n",
       "      <td>2.14951076298249</td>\n",
       "      <td>-0.852076056027190</td>\n",
       "    </tr>\n",
       "    <tr>\n",
       "      <td>17</td>\n",
       "      <td>2.48020472651826</td>\n",
       "      <td>-0.781709877071470</td>\n",
       "    </tr>\n",
       "    <tr>\n",
       "      <td>18</td>\n",
       "      <td>2.81089869005402</td>\n",
       "      <td>-0.437022305259870</td>\n",
       "    </tr>\n",
       "    <tr>\n",
       "      <td>19</td>\n",
       "      <td>3.14159265358979</td>\n",
       "      <td>0.000000000000000</td>\n",
       "    </tr>\n",
       "  </tbody>\n",
       "</table>\n",
       "</div>"
      ],
      "text/plain": [
       "            x-values           y-values\n",
       "0  -3.14159265358979  0.000000000000000\n",
       "1  -2.81089869005402 -0.437022305259870\n",
       "2  -2.48020472651826 -0.781709877071470\n",
       "3  -2.14951076298249 -0.852076056027190\n",
       "4  -1.81881679944672 -0.523359354479080\n",
       "5  -1.48812283591095  0.221211026816860\n",
       "6  -1.15742887237519  1.271307340317750\n",
       "7  -0.82673490883942  2.410892493715280\n",
       "8  -0.49604094530365  3.375392641226650\n",
       "9  -0.16534698176788  3.927491941286241\n",
       "10  0.16534698176788  3.927491941286241\n",
       "11  0.49604094530365  3.375392641226650\n",
       "12  0.82673490883942  2.410892493715280\n",
       "13  1.15742887237519  1.271307340317750\n",
       "14  1.48812283591095  0.221211026816860\n",
       "15  1.81881679944672 -0.523359354479080\n",
       "16  2.14951076298249 -0.852076056027190\n",
       "17  2.48020472651826 -0.781709877071470\n",
       "18  2.81089869005402 -0.437022305259870\n",
       "19  3.14159265358979  0.000000000000000"
      ]
     },
     "execution_count": 18,
     "metadata": {},
     "output_type": "execute_result"
    }
   ],
   "source": [
    "# load the data\n",
    "pd.options.display.precision = 15 # round up to 15 decimal digits \n",
    "df = pd.read_csv(\"data.csv\")      # reading the csv file named \"data.csv\"\n",
    "df.head(20)                       # taking out the first 20 (index 0 - index 19) datas from the file."
   ]
  },
  {
   "cell_type": "code",
   "execution_count": 19,
   "metadata": {},
   "outputs": [
    {
     "data": {
      "text/plain": [
       "(array([[-3.14159265358979],\n",
       "        [-2.81089869005402],\n",
       "        [-2.48020472651826],\n",
       "        [-2.14951076298249],\n",
       "        [-1.81881679944672],\n",
       "        [-1.48812283591095],\n",
       "        [-1.15742887237519],\n",
       "        [-0.82673490883942],\n",
       "        [-0.49604094530365],\n",
       "        [-0.16534698176788],\n",
       "        [ 0.16534698176788],\n",
       "        [ 0.49604094530365],\n",
       "        [ 0.82673490883942],\n",
       "        [ 1.15742887237519],\n",
       "        [ 1.48812283591095],\n",
       "        [ 1.81881679944672],\n",
       "        [ 2.14951076298249],\n",
       "        [ 2.48020472651826],\n",
       "        [ 2.81089869005402],\n",
       "        [ 3.14159265358979]]),\n",
       " array([ 0.               , -0.43702230525987 , -0.78170987707147 ,\n",
       "        -0.85207605602719 , -0.52335935447908 ,  0.22121102681686 ,\n",
       "         1.27130734031775 ,  2.41089249371528 ,  3.37539264122665 ,\n",
       "         3.927491941286241,  3.927491941286241,  3.37539264122665 ,\n",
       "         2.41089249371528 ,  1.27130734031775 ,  0.22121102681686 ,\n",
       "        -0.52335935447908 , -0.85207605602719 , -0.78170987707147 ,\n",
       "        -0.43702230525987 ,  0.               ]))"
      ]
     },
     "execution_count": 19,
     "metadata": {},
     "output_type": "execute_result"
    }
   ],
   "source": [
    "# set x column to x \n",
    "# set y column to y\n",
    "np.set_printoptions(precision = 15) # set floating point position to be 15. only display 15 decimals \n",
    "y = df.iloc[:,1].values\n",
    "x = df.iloc[:,:1].values # index up to column 1 \n",
    "x,y\n",
    "\n"
   ]
  },
  {
   "cell_type": "code",
   "execution_count": 20,
   "metadata": {},
   "outputs": [
    {
     "data": {
      "text/plain": [
       "LinearRegression(copy_X=True, fit_intercept=True, n_jobs=None, normalize=False)"
      ]
     },
     "execution_count": 20,
     "metadata": {},
     "output_type": "execute_result"
    }
   ],
   "source": [
    "#Linear regression \n",
    "from sklearn.linear_model import LinearRegression\n",
    "model  = LinearRegression().fit(x,y)\n",
    "model"
   ]
  },
  {
   "cell_type": "code",
   "execution_count": 21,
   "metadata": {},
   "outputs": [
    {
     "name": "stdout",
     "output_type": "stream",
     "text": [
      "coefficient of determination:  0.0\n"
     ]
    }
   ],
   "source": [
    "# check whether the model works satisfactorily and interpret it.\n",
    "r_sq = model.score(x,y)\n",
    "print(\"coefficient of determination: \", r_sq)"
   ]
  },
  {
   "cell_type": "code",
   "execution_count": 22,
   "metadata": {},
   "outputs": [
    {
     "data": {
      "text/plain": [
       "array([6.631446895811862e-18])"
      ]
     },
     "execution_count": 22,
     "metadata": {},
     "output_type": "execute_result"
    }
   ],
   "source": [
    "model.coef_"
   ]
  },
  {
   "cell_type": "code",
   "execution_count": 23,
   "metadata": {},
   "outputs": [
    {
     "data": {
      "text/plain": [
       "0.861212785052517"
      ]
     },
     "execution_count": 23,
     "metadata": {},
     "output_type": "execute_result"
    }
   ],
   "source": [
    "model.intercept_"
   ]
  },
  {
   "cell_type": "code",
   "execution_count": 32,
   "metadata": {},
   "outputs": [
    {
     "data": {
      "image/png": "[encoded data removed]",
      "text/plain": [
       "<Figure size 432x288 with 1 Axes>"
      ]
     },
     "metadata": {
      "needs_background": "light"
     },
     "output_type": "display_data"
    }
   ],
   "source": [
    "from sklearn.preprocessing import PolynomialFeatures\n",
    "from sklearn.pipeline import make_pipeline \n",
    "\n",
    "#degree = 4\n",
    "#poly = make_pipeline(PolynomialFeatures(degree), LinearRegression()) \n",
    "#poly.fit(x, y)\n",
    "\n",
    "xx = x.flatten()\n",
    "coefs = np.polyfit(xx, y, 4)\n",
    "xx = np.arange(xx.min(), xx.max(), 0.01)\n",
    "plt.figure()\n",
    "plt.plot(xx, np.polyval(coefs, xx), color = 'blue')\n",
    "plt.title(\"Polynomial Least Squares\")\n",
    "plt.xlabel(\"x-values\")\n",
    "plt.ylabel(\"y-values\")\n",
    "plt.scatter(x, y)\n",
    "plt.show()"
   ]
  },
  {
   "cell_type": "code",
   "execution_count": 25,
   "metadata": {},
   "outputs": [
    {
     "data": {
      "text/plain": [
       "array([ 0.1233,  0.    , -1.5285,  0.    ,  3.495 ])"
      ]
     },
     "execution_count": 25,
     "metadata": {},
     "output_type": "execute_result"
    }
   ],
   "source": [
    "rounded = np.around(coefs, 4)\n",
    "rounded"
   ]
  },
  {
   "cell_type": "code",
   "execution_count": 36,
   "metadata": {},
   "outputs": [
    {
     "name": "stdout",
     "output_type": "stream",
     "text": [
      "[ 0.9153  2.2202  0.975  -0.1641 -0.      0.    ]\n"
     ]
    }
   ],
   "source": [
    "#part2.\n",
    "# calculating the coefficients for the trigometric polynomial\n",
    "\n",
    "# flatten the data to be actually flat.not like 2D or 3D. but 1D\n",
    "xx = x.flatten()\n",
    "yy = y.flatten()\n",
    "\n",
    "Array = np.array([np.ones(len(xx)),np.cos(xx),np.cos(2 * xx),np.cos(3 * xx),np.sin(xx),np.sin(2 * xx)])\n",
    "\n",
    "pinv = np.linalg.pinv(Array) \n",
    "a = np.dot(pinv.T,y)\n",
    "getRoundigUp = np.around(a,4)\n",
    "print(getRoundigUp)\n",
    "\n",
    "def s(x):\n",
    "    return a[0] + a[1]*np.cos(x) +a[2]*np.cos(2 * x)+a[3]*np.cos(3*x)+a[4]*np.sin(x) + a[5]*np.sin(2*x)\n"
   ]
  },
  {
   "cell_type": "code",
   "execution_count": 38,
   "metadata": {},
   "outputs": [
    {
     "name": "stdout",
     "output_type": "stream",
     "text": [
      "[ 0.9153  2.2202  0.975  -0.1641 -0.      0.    ]\n"
     ]
    },
    {
     "data": {
      "image/png": "[encoded data removed]",
      "text/plain": [
       "<Figure size 432x288 with 1 Axes>"
      ]
     },
     "metadata": {
      "needs_background": "light"
     },
     "output_type": "display_data"
    }
   ],
   "source": [
    "#ploting the figure\n",
    "xvalues = np.arange(np.min(xx),np.max(xx),0.01)\n",
    "print(getRoundigUp)\n",
    "\n",
    "plt.figure()\n",
    "plt.plot(xvalues,s(xvalues),color = 'red')\n",
    "plt.title(\"Trigonometrix Approximation Graph\")\n",
    "plt.xlabel(\"x values\")\n",
    "plt.ylabel(\"y values\")\n",
    "plt.scatter(x,y)\n",
    "plt.show()"
   ]
  },
  {
   "cell_type": "code",
   "execution_count": null,
   "metadata": {},
   "outputs": [],
   "source": []
  }
 ],
 "metadata": {
  "kernelspec": {
   "display_name": "Python 3 (ipykernel)",
   "language": "python",
   "name": "python3"
  },
  "language_info": {
   "codemirror_mode": {
    "name": "ipython",
    "version": 3
   },
   "file_extension": ".py",
   "mimetype": "text/x-python",
   "name": "python",
   "nbconvert_exporter": "python",
   "pygments_lexer": "ipython3",
   "version": "3.9.12"
  }
 },
 "nbformat": 4,
 "nbformat_minor": 4
}
